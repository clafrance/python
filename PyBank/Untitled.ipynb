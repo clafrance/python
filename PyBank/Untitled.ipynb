{
 "cells": [
  {
   "cell_type": "code",
   "execution_count": 7,
   "metadata": {},
   "outputs": [],
   "source": [
    "import csv\n",
    "import os"
   ]
  },
  {
   "cell_type": "code",
   "execution_count": 8,
   "metadata": {},
   "outputs": [],
   "source": [
    "def read_csv(file_path, file_name):\n",
    "    csvpath = os.path.join(file_path, file_name)\n",
    "    profit_data = []\n",
    "    total_profit = 0\n",
    "    with open(csvpath, newline='') as csvfile:\n",
    "        csvreader = csv.reader(csvfile, delimiter=',')\n",
    "        next(csvfile)\n",
    "\n",
    "        for row in csvreader:\n",
    "            profit = float(row[1])\n",
    "            profit_data.append([row[0], profit])\n",
    "            total_profit += profit\n",
    "\n",
    "    return [profit_data, round(total_profit, 2)]\n",
    "\n",
    "profit_data = read_csv('Resources', 'budget_data.csv')"
   ]
  },
  {
   "cell_type": "code",
   "execution_count": 9,
   "metadata": {},
   "outputs": [
    {
     "data": {
      "text/plain": [
       "86"
      ]
     },
     "execution_count": 9,
     "metadata": {},
     "output_type": "execute_result"
    }
   ],
   "source": [
    "def calculate_total_number_of_months(profit_data):\n",
    "    return len(profit_data[0])\n",
    "calculate_total_number_of_months(profit_data)"
   ]
  },
  {
   "cell_type": "code",
   "execution_count": 10,
   "metadata": {},
   "outputs": [],
   "source": [
    "def calculate_profit_changes(profit_data):\n",
    "    months = []\n",
    "    profit_changes = []\n",
    "    profit_data = profit_data[0]\n",
    "    \n",
    "    i = 1\n",
    "    while i < (len(profit_data)):\n",
    "        profit_change = profit_data[i][1] - profit_data[i-1][1]\n",
    "        profit_changes.append(profit_change)\n",
    "        months.append(profit_data[i][0])\n",
    "        i = i + 1\n",
    "   \n",
    "    total_profit_change = sum(profit_changes)\n",
    "    avg_profit_change = round(total_profit_change / len(profit_changes), 2)\n",
    "    max_profit_change = int(max(profit_changes))\n",
    "    max_profit_month = months[profit_changes.index(max_profit_change)]\n",
    "    min_profit_change = int(min(profit_changes))\n",
    "    min_profit_month = months[profit_changes.index(min_profit_change)]\n",
    "\n",
    "    return {\"avg_profit_change\": avg_profit_change, \n",
    "            \"min_profit_change\": min_profit_change,\n",
    "            \"min_change_month\": min_profit_month, \n",
    "            \"max_profit_change\": max_profit_change, \n",
    "            \"max_change_month\": max_profit_month \n",
    "            }"
   ]
  },
  {
   "cell_type": "code",
   "execution_count": 11,
   "metadata": {},
   "outputs": [
    {
     "data": {
      "text/plain": [
       "{'avg_profit_change': -2315.12,\n",
       " 'min_profit_change': -2196167,\n",
       " 'min_change_month': 'Sep-2013',\n",
       " 'max_profit_change': 1926159,\n",
       " 'max_change_month': 'Feb-2012'}"
      ]
     },
     "execution_count": 11,
     "metadata": {},
     "output_type": "execute_result"
    }
   ],
   "source": [
    "calculate_profit_changes(profit_data)"
   ]
  },
  {
   "cell_type": "code",
   "execution_count": 20,
   "metadata": {},
   "outputs": [],
   "source": [
    "def main():\n",
    "    file_path = 'Resources'\n",
    "    file_name = 'budget_data.csv'\n",
    "    profit_data = read_csv('Resources', 'budget_data.csv')\n",
    "\n",
    "    total_profit = profit_data[1]\n",
    "    num_of_months = calculate_total_number_of_months(profit_data)\n",
    "    profit_changes = calculate_profit_changes(profit_data)\n",
    "\n",
    "    max_change_month = profit_changes[\"max_change_month\"]\n",
    "    max_profit_change = profit_changes[\"max_profit_change\"]\n",
    "    \n",
    "    min_change_month = profit_changes[\"min_change_month\"]\n",
    "    min_profit_change = profit_changes[\"min_profit_change\"]\n",
    "\n",
    "    print(\"Financial Analysis\")\n",
    "    print(f\"{'-' * 40}\")\n",
    "    print(f'Total Months: {num_of_months }')\n",
    "    print(f'Total: ${total_profit}')\n",
    "    print(f'Average  Change: ${ round(profit_changes[\"avg_profit_change\"], 2) }')\n",
    "    print(f'Greatest Increase in Profits: { max_change_month } (${ max_profit_change })')\n",
    "    print(f'Greatest Decrease in Profits: { min_change_month } (${ min_profit_change })\\n')"
   ]
  },
  {
   "cell_type": "code",
   "execution_count": 21,
   "metadata": {},
   "outputs": [
    {
     "name": "stdout",
     "output_type": "stream",
     "text": [
      "Financial Analysis\n",
      "----------------------------------------\n",
      "Total Months: 86\n",
      "Total: $38382578.0\n",
      "Average  Change: $-2315.12\n",
      "Greatest Increase in Profits: Feb-2012 ($1926159)\n",
      "Greatest Decrease in Profits: Sep-2013 ($-2196167)\n",
      "\n"
     ]
    }
   ],
   "source": [
    "main()"
   ]
  }
 ],
 "metadata": {
  "kernelspec": {
   "display_name": "Python 3",
   "language": "python",
   "name": "python3"
  },
  "language_info": {
   "codemirror_mode": {
    "name": "ipython",
    "version": 3
   },
   "file_extension": ".py",
   "mimetype": "text/x-python",
   "name": "python",
   "nbconvert_exporter": "python",
   "pygments_lexer": "ipython3",
   "version": "3.6.7"
  }
 },
 "nbformat": 4,
 "nbformat_minor": 2
}
